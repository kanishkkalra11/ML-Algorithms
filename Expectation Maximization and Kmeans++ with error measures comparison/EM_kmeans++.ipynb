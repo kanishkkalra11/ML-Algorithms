{
  "nbformat": 4,
  "nbformat_minor": 0,
  "metadata": {
    "colab": {
      "name": "CS328_Assg2_Q1.ipynb",
      "provenance": [],
      "collapsed_sections": []
    },
    "kernelspec": {
      "name": "python3",
      "display_name": "Python 3"
    }
  },
  "cells": [
    {
      "cell_type": "code",
      "metadata": {
        "id": "jl-o3My6xZfl",
        "colab_type": "code",
        "colab": {}
      },
      "source": [
        "# Make necessary imports\n",
        "\n",
        "import numpy as np\n",
        "import pandas as pd\n",
        "import random"
      ],
      "execution_count": null,
      "outputs": []
    },
    {
      "cell_type": "code",
      "metadata": {
        "id": "4ZuS3O2l5wtP",
        "colab_type": "code",
        "colab": {}
      },
      "source": [
        "# Expectation Maximization\n",
        "\n",
        "from scipy.stats import multivariate_normal\n",
        "\n",
        "def EM(X,K,iters):\n",
        "    reg_cov = 1e-6*np.identity(len(X[0]))\n",
        "    mu = np.random.randint(min(X[:,0]),max(X[:,0]),size=(K,len(X[0])))\n",
        "    cov = np.zeros((K,len(X[0]),len(X[0])))\n",
        "    for j in range(len(cov)):\n",
        "        np.fill_diagonal(cov[j],5)\n",
        "    weights = np.ones(K)/K\n",
        "\n",
        "    for i in range(iters):\n",
        "        # E step\n",
        "        r_ic = np.zeros((len(X),len(cov)))\n",
        "\n",
        "        for m,co,p,r in zip(mu,cov,weights,range(len(r_ic[0]))):\n",
        "            co+=reg_cov\n",
        "            mn = multivariate_normal(mean=m,cov=co)\n",
        "            r_ic[:,r] = p*mn.pdf(X)/np.sum([weights_c*multivariate_normal(mean=mu_c,cov=cov_c).pdf(X) for weights_c,mu_c,cov_c in zip(weights,mu,cov+reg_cov)],axis=0)\n",
        "\n",
        "        # M step\n",
        "        mu = []\n",
        "        cov = []\n",
        "        weights = []\n",
        "\n",
        "        for c in range(len(r_ic[0])):\n",
        "            m_c = np.sum(r_ic[:,c],axis=0)\n",
        "            mu_c = (1/m_c)*np.sum(X*r_ic[:,c].reshape(len(X),1),axis=0)\n",
        "            mu.append(mu_c)\n",
        "            cov.append(((1/m_c)*np.dot((np.array(r_ic[:,c]).reshape(len(X),1)*(X-mu_c)).T,(X-mu_c)))+reg_cov)\n",
        "            weights.append(m_c/np.sum(r_ic))\n",
        "    return mu"
      ],
      "execution_count": null,
      "outputs": []
    },
    {
      "cell_type": "code",
      "metadata": {
        "id": "Iox2YGRm5x6z",
        "colab_type": "code",
        "colab": {}
      },
      "source": [
        "# Kmeans++\n",
        "\n",
        "def kmeansppinit(X,K):\n",
        "    i = random.randint(0,X.shape[0])\n",
        "    temp=np.array([X[i]])\n",
        "    for k in range(1,K):\n",
        "        D = np.array([]) \n",
        "        for x in X:\n",
        "            D = np.append(D,np.min(np.sum((x-temp)**2)))\n",
        "        prob = D/np.sum(D)\n",
        "        probdash = np.cumsum(prob)\n",
        "        r = random.random()\n",
        "        i=0\n",
        "        for j,p in enumerate(probdash):\n",
        "            if r<p:\n",
        "                i = j\n",
        "                break\n",
        "        temp = np.append(temp,[X[i]],axis=0)\n",
        "        return temp\n",
        "\n",
        "def kmeanspp(X,K,iters):\n",
        "    centers = kmeansppinit(X,K)\n",
        "    centers_new = np.zeros(centers.shape)\n",
        "    clusters = np.zeros(X.shape[0])\n",
        "    distances = np.zeros((X.shape[0],K))\n",
        "    for i in range(iters):\n",
        "        for k in range(K):\n",
        "            distances[:,k] = np.linalg.norm(X - centers[k], axis=1)\n",
        "        clusters = np.argmin(distances, axis = 1)\n",
        "        for k in range(K):\n",
        "            centers_new[k] = np.mean(X[clusters == k], axis=0)\n",
        "    return centers_new"
      ],
      "execution_count": null,
      "outputs": []
    },
    {
      "cell_type": "code",
      "metadata": {
        "id": "0T-6gw3P1NvE",
        "colab_type": "code",
        "colab": {}
      },
      "source": [
        "# Generate GMM, data, and error measures\n",
        "\n",
        "coin = [1,2]\n",
        "cov = np.identity(32)"
      ],
      "execution_count": null,
      "outputs": []
    },
    {
      "cell_type": "code",
      "metadata": {
        "id": "Hp_1UmIH1X1O",
        "colab_type": "code",
        "colab": {}
      },
      "source": [
        "mu1 = np.zeros(32)"
      ],
      "execution_count": null,
      "outputs": []
    },
    {
      "cell_type": "code",
      "metadata": {
        "id": "VRoC2jW74QH3",
        "colab_type": "code",
        "colab": {}
      },
      "source": [
        "data = {}\n",
        "em = {}\n",
        "km = {}"
      ],
      "execution_count": null,
      "outputs": []
    },
    {
      "cell_type": "code",
      "metadata": {
        "id": "n8Fu7K7U4G5K",
        "colab_type": "code",
        "colab": {}
      },
      "source": [
        "for c in [0.5,1,1.5,2,3,4,8]:\n",
        "    data[c] = []\n",
        "    mu2 = c * np.random.normal(0, 1) * np.ones(32)\n",
        "    for i in range(10000):\n",
        "        temp = random.choice(coin)\n",
        "        if temp==1:\n",
        "            data[c].append(np.random.multivariate_normal(mu1, cov))\n",
        "        else:\n",
        "            data[c].append(np.random.multivariate_normal(mu2, cov))\n",
        "    data[c] = np.asarray(data[c])\n",
        "    mu_em = EM(data[c],2,50)\n",
        "    mu_km = kmeanspp(data[c],2,5)\n",
        "    em[c] = np.linalg.norm(mu1 - mu_em[0]) + np.linalg.norm(mu2 - mu_em[1])\n",
        "    km[c] = np.linalg.norm(mu1 - mu_km[0]) + np.linalg.norm(mu2 - mu_km[1])"
      ],
      "execution_count": null,
      "outputs": []
    },
    {
      "cell_type": "code",
      "metadata": {
        "id": "tkIwv04g-aYX",
        "colab_type": "code",
        "colab": {
          "base_uri": "https://localhost:8080/",
          "height": 1000
        },
        "outputId": "c2422e1b-81dc-41a6-f6e2-b0871c0bafdc"
      },
      "source": [
        "print('Data Generated from GMM')\n",
        "data"
      ],
      "execution_count": null,
      "outputs": [
        {
          "output_type": "stream",
          "text": [
            "Data Generated from GMM\n"
          ],
          "name": "stdout"
        },
        {
          "output_type": "execute_result",
          "data": {
            "text/plain": [
              "{0.5: array([[-1.5220111 , -0.31869373,  1.09849653, ...,  0.42074836,\n",
              "         -1.03236911, -0.57916896],\n",
              "        [ 0.38143989,  1.38574458,  2.85544753, ...,  0.90685521,\n",
              "          0.13100817, -0.95072418],\n",
              "        [ 0.1172781 , -0.84014676, -0.80771889, ...,  0.46439028,\n",
              "         -2.63039009, -1.35547545],\n",
              "        ...,\n",
              "        [ 0.57107379, -0.0569501 ,  1.64441245, ..., -0.76477313,\n",
              "         -0.85899029,  0.03370256],\n",
              "        [-1.17753562, -0.33684555, -0.45304029, ...,  0.99466845,\n",
              "         -0.02738107,  0.02814964],\n",
              "        [ 0.38890641,  0.21735419,  0.49917347, ...,  0.41984328,\n",
              "          0.4177095 , -1.27315102]]),\n",
              " 1: array([[ 0.7523828 ,  2.14734343,  0.7342221 , ..., -1.35355162,\n",
              "         -0.98611815, -0.85655142],\n",
              "        [-0.81747729,  0.77223428, -1.39597   , ..., -0.50084624,\n",
              "         -0.40219913, -2.12801237],\n",
              "        [-1.75701387, -0.92993717, -0.98453315, ..., -0.18537598,\n",
              "         -0.20072995,  1.02789951],\n",
              "        ...,\n",
              "        [ 0.06579965,  0.89456518,  0.21296088, ...,  2.136222  ,\n",
              "         -0.97875814, -0.16222224],\n",
              "        [ 0.23990976, -1.22211285,  0.02954193, ..., -1.73695393,\n",
              "         -1.06814485, -0.86386522],\n",
              "        [ 0.85005766, -0.58882111, -0.18405752, ...,  1.27724261,\n",
              "         -1.32003398, -1.3218345 ]]),\n",
              " 1.5: array([[ 0.41946454,  0.94448774, -1.12100684, ..., -1.10095732,\n",
              "          0.14167866,  0.43688184],\n",
              "        [ 2.06069235,  1.93882543, -0.46873623, ..., -0.23219012,\n",
              "          0.22665934, -1.81643509],\n",
              "        [ 2.13022618,  1.43282447,  1.29766019, ..., -0.42870478,\n",
              "         -0.14697652,  0.11983474],\n",
              "        ...,\n",
              "        [ 0.2478625 , -0.47233685, -0.77030046, ...,  0.87256994,\n",
              "          0.20533593,  0.53669241],\n",
              "        [ 0.85112178, -0.16177179,  0.38113406, ...,  1.2820008 ,\n",
              "          0.37118448, -0.10826995],\n",
              "        [-0.7071311 , -1.33100679, -0.06740092, ...,  1.84769534,\n",
              "         -1.29577348,  0.19495509]]),\n",
              " 2: array([[-0.34022276, -0.54807598,  1.41113733, ..., -0.03884475,\n",
              "         -1.24659002,  0.41473748],\n",
              "        [-0.88849876, -2.45251261, -0.36223491, ..., -2.19720368,\n",
              "          0.84418201, -2.96351212],\n",
              "        [ 0.78287635,  0.54022495,  0.40817948, ...,  0.00303791,\n",
              "         -0.83658657,  0.51603551],\n",
              "        ...,\n",
              "        [-0.76575866, -0.33924998, -0.43707191, ..., -1.72866852,\n",
              "         -0.79107429, -2.18976087],\n",
              "        [-1.66724881, -2.5380043 , -0.61958959, ..., -0.41921522,\n",
              "          0.28856055, -2.20136064],\n",
              "        [ 0.81484044, -0.3422144 , -1.64854828, ..., -0.3643879 ,\n",
              "         -2.45164926, -0.90343361]]),\n",
              " 3: array([[ 7.44357217,  7.89554878,  8.64896485, ...,  9.23213117,\n",
              "          9.3352269 ,  7.04293517],\n",
              "        [ 7.39227043,  7.2835967 ,  9.14544775, ...,  9.58753766,\n",
              "          8.19267068,  9.39237525],\n",
              "        [ 7.41138392,  7.07632479,  7.08329898, ...,  7.26495613,\n",
              "          6.47509934,  9.13011657],\n",
              "        ...,\n",
              "        [ 1.68897207, -1.31295471, -0.25961831, ...,  0.69833034,\n",
              "          0.15364944, -0.58034181],\n",
              "        [ 7.04199587,  7.77643863,  8.1019427 , ...,  8.63105174,\n",
              "          7.90729509,  8.07998246],\n",
              "        [-1.08585156,  0.39012962,  1.17924608, ..., -0.02218598,\n",
              "          0.70552051,  1.03496737]]),\n",
              " 4: array([[ 0.66662017, -0.81314127, -0.42766194, ...,  0.03931583,\n",
              "         -0.4556183 ,  0.30504992],\n",
              "        [-1.23093426, -0.50097855, -0.72914698, ...,  0.99773848,\n",
              "          1.19045728, -0.38368861],\n",
              "        [ 0.87414984, -0.56511289,  0.57039797, ...,  1.87629117,\n",
              "         -1.10366255,  2.06101974],\n",
              "        ...,\n",
              "        [-3.0321305 , -1.00793096,  0.70392889, ..., -0.57142714,\n",
              "         -1.4156648 ,  1.79702145],\n",
              "        [-0.54881662,  1.48402304,  1.06439556, ..., -0.71481564,\n",
              "          0.66985712,  2.02282928],\n",
              "        [-0.05601351,  2.65462439, -0.33158521, ..., -0.88866854,\n",
              "          1.70874601,  0.61355814]]),\n",
              " 8: array([[ 3.42455312,  6.08862485,  6.08947751, ...,  5.45269013,\n",
              "          6.31915502,  4.00173399],\n",
              "        [-0.72247855,  1.43302857, -0.31099544, ...,  1.23012359,\n",
              "         -1.01071424, -0.21750416],\n",
              "        [-0.35555594,  0.93346569, -0.94314569, ...,  0.47782487,\n",
              "         -1.07436538,  0.62595237],\n",
              "        ...,\n",
              "        [ 5.87965165,  3.62320857,  4.12298432, ...,  3.2310044 ,\n",
              "          6.46448002,  6.44514293],\n",
              "        [ 4.09303336,  4.90638249,  4.67729368, ...,  3.68630262,\n",
              "          4.95067158,  3.62651312],\n",
              "        [ 3.32956491,  6.64865225,  5.11293953, ...,  4.89581531,\n",
              "          6.4547576 ,  2.68013491]])}"
            ]
          },
          "metadata": {
            "tags": []
          },
          "execution_count": 8
        }
      ]
    },
    {
      "cell_type": "code",
      "metadata": {
        "id": "dYCWIFhh6dzA",
        "colab_type": "code",
        "colab": {
          "base_uri": "https://localhost:8080/",
          "height": 284
        },
        "outputId": "87718377-83b1-45ce-9947-b77fb1b64a4a"
      },
      "source": [
        "print('Error Measures for Expectation Maximiziation')\n",
        "pd.DataFrame({'c':list(em.keys()),'Error':list(em.values())})"
      ],
      "execution_count": null,
      "outputs": [
        {
          "output_type": "stream",
          "text": [
            "Error Measures for Expectation Maximiziation\n"
          ],
          "name": "stdout"
        },
        {
          "output_type": "execute_result",
          "data": {
            "text/html": [
              "<div>\n",
              "<style scoped>\n",
              "    .dataframe tbody tr th:only-of-type {\n",
              "        vertical-align: middle;\n",
              "    }\n",
              "\n",
              "    .dataframe tbody tr th {\n",
              "        vertical-align: top;\n",
              "    }\n",
              "\n",
              "    .dataframe thead th {\n",
              "        text-align: right;\n",
              "    }\n",
              "</style>\n",
              "<table border=\"1\" class=\"dataframe\">\n",
              "  <thead>\n",
              "    <tr style=\"text-align: right;\">\n",
              "      <th></th>\n",
              "      <th>c</th>\n",
              "      <th>Error</th>\n",
              "    </tr>\n",
              "  </thead>\n",
              "  <tbody>\n",
              "    <tr>\n",
              "      <th>0</th>\n",
              "      <td>0.5</td>\n",
              "      <td>1.582734</td>\n",
              "    </tr>\n",
              "    <tr>\n",
              "      <th>1</th>\n",
              "      <td>1.0</td>\n",
              "      <td>2.226143</td>\n",
              "    </tr>\n",
              "    <tr>\n",
              "      <th>2</th>\n",
              "      <td>1.5</td>\n",
              "      <td>2.556495</td>\n",
              "    </tr>\n",
              "    <tr>\n",
              "      <th>3</th>\n",
              "      <td>2.0</td>\n",
              "      <td>5.886854</td>\n",
              "    </tr>\n",
              "    <tr>\n",
              "      <th>4</th>\n",
              "      <td>3.0</td>\n",
              "      <td>0.144796</td>\n",
              "    </tr>\n",
              "    <tr>\n",
              "      <th>5</th>\n",
              "      <td>4.0</td>\n",
              "      <td>0.765872</td>\n",
              "    </tr>\n",
              "    <tr>\n",
              "      <th>6</th>\n",
              "      <td>8.0</td>\n",
              "      <td>0.175057</td>\n",
              "    </tr>\n",
              "  </tbody>\n",
              "</table>\n",
              "</div>"
            ],
            "text/plain": [
              "     c     Error\n",
              "0  0.5  1.582734\n",
              "1  1.0  2.226143\n",
              "2  1.5  2.556495\n",
              "3  2.0  5.886854\n",
              "4  3.0  0.144796\n",
              "5  4.0  0.765872\n",
              "6  8.0  0.175057"
            ]
          },
          "metadata": {
            "tags": []
          },
          "execution_count": 9
        }
      ]
    },
    {
      "cell_type": "code",
      "metadata": {
        "id": "NFSs3Q88-e47",
        "colab_type": "code",
        "colab": {
          "base_uri": "https://localhost:8080/",
          "height": 284
        },
        "outputId": "c7aa884f-62e9-4066-8b0c-546d2cf5e511"
      },
      "source": [
        "print('Error Measures for kmeans++')\n",
        "pd.DataFrame({'c':list(km.keys()),'Error':list(km.values())})"
      ],
      "execution_count": null,
      "outputs": [
        {
          "output_type": "stream",
          "text": [
            "Error Measures for Expectation Maximiziation\n"
          ],
          "name": "stdout"
        },
        {
          "output_type": "execute_result",
          "data": {
            "text/html": [
              "<div>\n",
              "<style scoped>\n",
              "    .dataframe tbody tr th:only-of-type {\n",
              "        vertical-align: middle;\n",
              "    }\n",
              "\n",
              "    .dataframe tbody tr th {\n",
              "        vertical-align: top;\n",
              "    }\n",
              "\n",
              "    .dataframe thead th {\n",
              "        text-align: right;\n",
              "    }\n",
              "</style>\n",
              "<table border=\"1\" class=\"dataframe\">\n",
              "  <thead>\n",
              "    <tr style=\"text-align: right;\">\n",
              "      <th></th>\n",
              "      <th>c</th>\n",
              "      <th>Error</th>\n",
              "    </tr>\n",
              "  </thead>\n",
              "  <tbody>\n",
              "    <tr>\n",
              "      <th>0</th>\n",
              "      <td>0.5</td>\n",
              "      <td>2.130648</td>\n",
              "    </tr>\n",
              "    <tr>\n",
              "      <th>1</th>\n",
              "      <td>1.0</td>\n",
              "      <td>2.745038</td>\n",
              "    </tr>\n",
              "    <tr>\n",
              "      <th>2</th>\n",
              "      <td>1.5</td>\n",
              "      <td>3.408102</td>\n",
              "    </tr>\n",
              "    <tr>\n",
              "      <th>3</th>\n",
              "      <td>2.0</td>\n",
              "      <td>1.612943</td>\n",
              "    </tr>\n",
              "    <tr>\n",
              "      <th>4</th>\n",
              "      <td>3.0</td>\n",
              "      <td>0.144796</td>\n",
              "    </tr>\n",
              "    <tr>\n",
              "      <th>5</th>\n",
              "      <td>4.0</td>\n",
              "      <td>6.275091</td>\n",
              "    </tr>\n",
              "    <tr>\n",
              "      <th>6</th>\n",
              "      <td>8.0</td>\n",
              "      <td>0.175057</td>\n",
              "    </tr>\n",
              "  </tbody>\n",
              "</table>\n",
              "</div>"
            ],
            "text/plain": [
              "     c     Error\n",
              "0  0.5  2.130648\n",
              "1  1.0  2.745038\n",
              "2  1.5  3.408102\n",
              "3  2.0  1.612943\n",
              "4  3.0  0.144796\n",
              "5  4.0  6.275091\n",
              "6  8.0  0.175057"
            ]
          },
          "metadata": {
            "tags": []
          },
          "execution_count": 10
        }
      ]
    }
  ]
}